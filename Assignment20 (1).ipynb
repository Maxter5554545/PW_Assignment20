{
 "cells": [
  {
   "cell_type": "code",
   "execution_count": 4,
   "id": "8b7a1e23-13ec-467a-959f-1d03893f189c",
   "metadata": {},
   "outputs": [],
   "source": [
    "import pandas as pd\n",
    "import logging\n",
    "logging.basicConfig(filename=\"a20.log\", level=logging.DEBUG)"
   ]
  },
  {
   "cell_type": "code",
   "execution_count": 42,
   "id": "0255106b-5d36-40d8-ab6d-068f57ba2416",
   "metadata": {},
   "outputs": [],
   "source": [
    "# Q1. Create a Pandas Series that contains the following data: 4, 8, 15, 16, 23, and 42. Then, print the series.\n",
    "try:\n",
    "    out = pd.Series([4, 8, 15, 16, 23, 42])\n",
    "    logging.info(out)\n",
    "    print()\n",
    "except TypeError as t:\n",
    "    logging.error(t)"
   ]
  },
  {
   "cell_type": "code",
   "execution_count": 9,
   "id": "0584afee-d64a-42be-864f-2f0bb54f9fb8",
   "metadata": {},
   "outputs": [
    {
     "name": "stdout",
     "output_type": "stream",
     "text": [
      "0         1\n",
      "1    ramesh\n",
      "2     22.44\n",
      "3      True\n",
      "4    Mrinal\n",
      "5         7\n",
      "6        80\n",
      "7      five\n",
      "8     eight\n",
      "9        10\n",
      "dtype: object\n"
     ]
    }
   ],
   "source": [
    "# Q2. Create a variable of list type containing 10 elements in it, and apply pandas.Series function on the\n",
    "# variable print it.\n",
    "try:\n",
    "    put = pd.Series([1, 'ramesh', 22.44, True, 'Mrinal', 7, 80, \"five\", \"eight\", 10])\n",
    "    print(put)\n",
    "    logging.info(put)\n",
    "except TypeError as t:\n",
    "    print(t)\n",
    "    logging.error(t)"
   ]
  },
  {
   "cell_type": "code",
   "execution_count": 17,
   "id": "e913f340-cf21-49d9-873b-8c14c171c5f6",
   "metadata": {},
   "outputs": [
    {
     "name": "stdout",
     "output_type": "stream",
     "text": [
      "    Name  Age  Gender\n",
      "0  Alice   25  Female\n"
     ]
    }
   ],
   "source": [
    "# Q3. Create a Pandas DataFrame that contains the following data:\n",
    "try:\n",
    "    data = {\"Name\":[\"Alice\", \"Bob\", \"Charlie\"], \"Age\":[25, 30, 27], \"Gender\":[\"Female\", \"Male\", \"Female\"]}\n",
    "    tab = pd.DataFrame(data)\n",
    "    print(tab)\n",
    "    logging.info(tab)\n",
    "except TypeError as t:\n",
    "    print(t)\n",
    "    logging.error(t)"
   ]
  },
  {
   "cell_type": "code",
   "execution_count": 11,
   "id": "426c5092-772d-4258-a898-3951c02cc75a",
   "metadata": {},
   "outputs": [],
   "source": [
    "# Q4. What is ‘DataFrame’ in pandas and how is it different from pandas.series? Explain with an example.\n",
    "try:\n",
    "    logging.info(\"DataFrame is a function of padas in python libraries it is use to create a structured form of data also called tabular data. It is different from pandas.series because pandas.series is an one dimensional labeled array capable of holding any data type on the other hand DataFrame is two dimensional labeled array capable of holding any data type. \")\n",
    "except TypeError as t:\n",
    "    logging.error(t)"
   ]
  },
  {
   "cell_type": "code",
   "execution_count": 30,
   "id": "27706484-16bf-4af8-952e-d377401ac61e",
   "metadata": {},
   "outputs": [
    {
     "name": "stdout",
     "output_type": "stream",
     "text": [
      "      Name  Age  Gender\n",
      "0    Alice   25  Female\n",
      "1      Bob   30    Male\n",
      "2  Charlie   27  Female\n",
      "      Name  Age  Gender\n",
      "0    Alice   25  Female\n",
      "1      Bob   30    Male\n",
      "2  Charlie   27  Female\n",
      "             Age\n",
      "count   3.000000\n",
      "mean   27.333333\n",
      "std     2.516611\n",
      "min    25.000000\n",
      "25%    26.000000\n",
      "50%    27.000000\n",
      "75%    28.500000\n",
      "max    30.000000\n",
      "      Name  Age  Gender\n",
      "1      Bob   30    Male\n",
      "2  Charlie   27  Female\n",
      "0    Alice   25  Female\n"
     ]
    }
   ],
   "source": [
    "# Q5. What are some common functions you can use to manipulate data in a Pandas DataFrame? Can\n",
    "# you give an example of when you might use one of these functions?\n",
    "try:\n",
    "    logging.info(\"Common functions we can use to manipulate data in a pandas DataFram are:\\nhead(), tail()\")\n",
    "    #For example\n",
    "    data = {\"Name\":[\"Alice\", \"Bob\", \"Charlie\"], \"Age\":[25, 30, 27], \"Gender\":[\"Female\", \"Male\", \"Female\"]}\n",
    "    tab = pd.DataFrame(data)\n",
    "    print(tab.head()) #head() function is used to filter some of the top elements\n",
    "    print(tab.tail()) #tail() function is used to filter some of the bottom elements\n",
    "    print(tab.describe()) #describe() is used to tell the summary about the given program.\n",
    "    print(tab.sort_values(by='Age', ascending=False)) #sort_values function is used to sort elements according to the given input.\n",
    "    print()\n",
    "    logging.info(tab)\n",
    "except TypeError as t:\n",
    "    print(t)\n",
    "    logging.error(t)"
   ]
  },
  {
   "cell_type": "code",
   "execution_count": 31,
   "id": "760ef410-2c9d-41d7-8af5-903c142ff7df",
   "metadata": {},
   "outputs": [],
   "source": [
    "# Q6. Which of the following is mutable in nature Series, DataFrame, Panel?\n",
    "try:\n",
    "    logging.info(\"In this the DataFrame is mutable in nature, Series & Panel are also mutable but less commonly compared to DataFrame\")\n",
    "except TypeError as t:\n",
    "    logging.error(t)"
   ]
  },
  {
   "cell_type": "code",
   "execution_count": 41,
   "id": "98819d41-d533-4317-b2de-f2e1a90b77ab",
   "metadata": {},
   "outputs": [
    {
     "name": "stdout",
     "output_type": "stream",
     "text": [
      "     Name  Age  Salary\n",
      "0  Ramesh   23    2000\n",
      "1  Himesh   22    4000\n",
      "2  Mukesh   11    8000\n",
      "3   Heena    4   11000\n"
     ]
    }
   ],
   "source": [
    "# Q7. Create a DataFrame using multiple Series. Explain with an example.\n",
    "\n",
    "try:\n",
    "    name = pd.Series([\"Ramesh\", \"Himesh\", \"Mukesh\", \"Heena\"])\n",
    "    age = pd.Series([23, 22, 11, 4])\n",
    "    salary = pd.Series([2000, 4000, 8000, 11000])\n",
    "    dics = {\"Name\":name, \"Age\":age, \"Salary\":salary}\n",
    "    ck = pd.DataFrame(dics)\n",
    "    print(ck)\n",
    "    ck.to_csv('panda-genda', index=False)\n",
    "except TypeError as t:\n",
    "    print(t)"
   ]
  },
  {
   "cell_type": "code",
   "execution_count": null,
   "id": "0db9bb71-1132-4f0c-903d-e32d3b8cdaea",
   "metadata": {},
   "outputs": [],
   "source": []
  }
 ],
 "metadata": {
  "kernelspec": {
   "display_name": "Python 3 (ipykernel)",
   "language": "python",
   "name": "python3"
  },
  "language_info": {
   "codemirror_mode": {
    "name": "ipython",
    "version": 3
   },
   "file_extension": ".py",
   "mimetype": "text/x-python",
   "name": "python",
   "nbconvert_exporter": "python",
   "pygments_lexer": "ipython3",
   "version": "3.10.8"
  }
 },
 "nbformat": 4,
 "nbformat_minor": 5
}
